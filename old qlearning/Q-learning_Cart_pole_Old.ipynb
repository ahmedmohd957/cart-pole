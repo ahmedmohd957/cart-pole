{
 "cells": [
  {
   "cell_type": "markdown",
   "metadata": {
    "id": "8Pjpn6RE5mbu"
   },
   "source": [
    "# CartPole Q-learning"
   ]
  },
  {
   "cell_type": "code",
   "execution_count": 16,
   "metadata": {
    "colab": {
     "base_uri": "https://localhost:8080/"
    },
    "executionInfo": {
     "elapsed": 7704,
     "status": "ok",
     "timestamp": 1715598442796,
     "user": {
      "displayName": "Ahmed",
      "userId": "08710069743183411902"
     },
     "user_tz": -120
    },
    "id": "UZAsYhSqsKkn",
    "outputId": "40f4d853-86c1-4e23-935b-c6967bb90153"
   },
   "outputs": [],
   "source": [
    "import time\n",
    "import math\n",
    "import random\n",
    "import numpy as np\n",
    "import gymnasium as gym\n",
    "from collections import defaultdict\n",
    "import scipy.stats as stats\n",
    "import matplotlib.pyplot as plt"
   ]
  },
  {
   "cell_type": "markdown",
   "metadata": {
    "id": "IgTLE5vJnlc6"
   },
   "source": [
    "### Set up environment"
   ]
  },
  {
   "cell_type": "code",
   "execution_count": 17,
   "metadata": {
    "executionInfo": {
     "elapsed": 307,
     "status": "ok",
     "timestamp": 1715598592782,
     "user": {
      "displayName": "Ahmed",
      "userId": "08710069743183411902"
     },
     "user_tz": -120
    },
    "id": "X7SRlwNMVTxp"
   },
   "outputs": [],
   "source": [
    "env = gym.make('CartPole-v1')"
   ]
  },
  {
   "cell_type": "markdown",
   "metadata": {},
   "source": [
    "### Hyperparameters"
   ]
  },
  {
   "cell_type": "code",
   "execution_count": 18,
   "metadata": {
    "executionInfo": {
     "elapsed": 3,
     "status": "ok",
     "timestamp": 1715598593828,
     "user": {
      "displayName": "Ahmed",
      "userId": "08710069743183411902"
     },
     "user_tz": -120
    },
    "id": "_1toKAzUU-yY"
   },
   "outputs": [],
   "source": [
    "# PARAMETERS\n",
    "EPISODES = 350\n",
    "EPSILON = float\n",
    "MIN_EPSILON = 0.005\n",
    "GAMMA = 0.95\n",
    "LEARNING_RATE = 0.5\n",
    "MIN_LEARNING_RATE = 0.01\n",
    "BINS = (1, 1, 6, 3)\n",
    "SEED = 1\n",
    "\n",
    "# Set the seed\n",
    "random.seed(SEED)\n",
    "np.random.seed(SEED)\n",
    "\n",
    "N_ACTIONS = env.action_space.n"
   ]
  },
  {
   "cell_type": "markdown",
   "metadata": {},
   "source": [
    "### Initialize Q-Table"
   ]
  },
  {
   "cell_type": "code",
   "execution_count": 19,
   "metadata": {},
   "outputs": [],
   "source": [
    "QTABLE = defaultdict(lambda: np.zeros(N_ACTIONS))"
   ]
  },
  {
   "cell_type": "markdown",
   "metadata": {},
   "source": [
    "### State Discretization"
   ]
  },
  {
   "cell_type": "code",
   "execution_count": 20,
   "metadata": {
    "executionInfo": {
     "elapsed": 418,
     "status": "ok",
     "timestamp": 1715598595958,
     "user": {
      "displayName": "Ahmed",
      "userId": "08710069743183411902"
     },
     "user_tz": -120
    },
    "id": "bxw3JqJaVZs8"
   },
   "outputs": [],
   "source": [
    "bounds = list(zip(env.observation_space.low, env.observation_space.high))\n",
    "bounds[1] = (-0.5, 0.5)\n",
    "bounds[3] = (-math.radians(50), math.radians(50))\n",
    "\n",
    "def discretize_state(state):\n",
    "    bin_indices = []\n",
    "    for i in range(len(state)):\n",
    "        if state[i] <= bounds[i][0]:\n",
    "            bin_index = 0\n",
    "        elif state[i] >= bounds[i][1]:\n",
    "            bin_index = BINS[i] - 1\n",
    "        else:\n",
    "            bound_width = bounds[i][1] - bounds[i][0]\n",
    "            offset = (BINS[i] - 1) * bounds[i][0] / bound_width\n",
    "            scale_factor = (BINS[i] - 1) / bound_width\n",
    "            bin_index = int(round(scale_factor * state[i] - offset))\n",
    "        bin_indices.append(bin_index)\n",
    "    return tuple(bin_indices)"
   ]
  },
  {
   "cell_type": "markdown",
   "metadata": {},
   "source": [
    "### Decay Epsilon"
   ]
  },
  {
   "cell_type": "code",
   "execution_count": 21,
   "metadata": {
    "executionInfo": {
     "elapsed": 3,
     "status": "ok",
     "timestamp": 1715598600874,
     "user": {
      "displayName": "Ahmed",
      "userId": "08710069743183411902"
     },
     "user_tz": -120
    },
    "id": "zT1DGzLGWTTW"
   },
   "outputs": [],
   "source": [
    "def decay_epsilon(step):\n",
    "    global EPSILON, MIN_EPSILON\n",
    "    EPSILON = max(MIN_EPSILON, min(1.0, 1.0 - math.log10((step + 1) / 25)))"
   ]
  },
  {
   "cell_type": "markdown",
   "metadata": {},
   "source": [
    "### Decay Learning Rate"
   ]
  },
  {
   "cell_type": "code",
   "execution_count": 22,
   "metadata": {
    "executionInfo": {
     "elapsed": 6,
     "status": "ok",
     "timestamp": 1715598602617,
     "user": {
      "displayName": "Ahmed",
      "userId": "08710069743183411902"
     },
     "user_tz": -120
    },
    "id": "I2bMCf2rWXPo"
   },
   "outputs": [],
   "source": [
    "def decay_learning_rate(step):\n",
    "    global LEARNING_RATE, MIN_LEARNING_RATE\n",
    "    LEARNING_RATE =  max(MIN_LEARNING_RATE, min(1.0, 1.0 - math.log10((step + 1) / 25)))"
   ]
  },
  {
   "cell_type": "markdown",
   "metadata": {},
   "source": [
    "### Action Selection"
   ]
  },
  {
   "cell_type": "code",
   "execution_count": 23,
   "metadata": {
    "executionInfo": {
     "elapsed": 329,
     "status": "ok",
     "timestamp": 1715598597822,
     "user": {
      "displayName": "Ahmed",
      "userId": "08710069743183411902"
     },
     "user_tz": -120
    },
    "id": "hF0VfoUiV5fR"
   },
   "outputs": [],
   "source": [
    "def select_action(state):\n",
    "    global EPSILON\n",
    "    if np.random.random() > EPSILON:\n",
    "        return int(np.argmax(QTABLE[state]))\n",
    "    else:\n",
    "        return random.randint(0, N_ACTIONS - 1)"
   ]
  },
  {
   "cell_type": "markdown",
   "metadata": {},
   "source": [
    "### Update Q-Table"
   ]
  },
  {
   "cell_type": "code",
   "execution_count": 24,
   "metadata": {
    "executionInfo": {
     "elapsed": 3,
     "status": "ok",
     "timestamp": 1715598599139,
     "user": {
      "displayName": "Ahmed",
      "userId": "08710069743183411902"
     },
     "user_tz": -120
    },
    "id": "CkzNTMJIWCeh"
   },
   "outputs": [],
   "source": [
    "def update_q_table(state, action, reward, next_state, terminated):\n",
    "    global LEARNING_RATE, GAMMA, QTABLE\n",
    "    q_max_next = np.max(QTABLE[next_state])\n",
    "    if not terminated:\n",
    "        td_error = reward + GAMMA * q_max_next - QTABLE[state][action]\n",
    "        QTABLE[state][action] += LEARNING_RATE * td_error\n",
    "    else:\n",
    "        td_error = reward - QTABLE[state][action]\n",
    "        QTABLE[state][action] += LEARNING_RATE * td_error"
   ]
  },
  {
   "cell_type": "markdown",
   "metadata": {},
   "source": [
    "### Train Q-Learning agent"
   ]
  },
  {
   "cell_type": "code",
   "execution_count": 25,
   "metadata": {
    "colab": {
     "base_uri": "https://localhost:8080/"
    },
    "executionInfo": {
     "elapsed": 8387,
     "status": "ok",
     "timestamp": 1715598612128,
     "user": {
      "displayName": "Ahmed",
      "userId": "08710069743183411902"
     },
     "user_tz": -120
    },
    "id": "jBoNxr8yfRPo",
    "outputId": "f329dd63-c368-4153-e527-18c4c636fa69"
   },
   "outputs": [
    {
     "name": "stdout",
     "output_type": "stream",
     "text": [
      "Episode: 0, Rewards: 50.0\n",
      "Episode: 1, Rewards: 21.0\n",
      "Episode: 2, Rewards: 19.0\n",
      "Episode: 3, Rewards: 9.0\n",
      "Episode: 4, Rewards: 11.0\n",
      "Episode: 5, Rewards: 24.0\n",
      "Episode: 6, Rewards: 19.0\n",
      "Episode: 7, Rewards: 19.0\n",
      "Episode: 8, Rewards: 28.0\n",
      "Episode: 9, Rewards: 62.0\n",
      "Episode: 10, Rewards: 13.0\n",
      "Episode: 11, Rewards: 9.0\n",
      "Episode: 12, Rewards: 21.0\n",
      "Episode: 13, Rewards: 28.0\n",
      "Episode: 14, Rewards: 13.0\n",
      "Episode: 15, Rewards: 23.0\n",
      "Episode: 16, Rewards: 18.0\n",
      "Episode: 17, Rewards: 25.0\n",
      "Episode: 18, Rewards: 29.0\n",
      "Episode: 19, Rewards: 48.0\n",
      "Episode: 20, Rewards: 9.0\n",
      "Episode: 21, Rewards: 24.0\n",
      "Episode: 22, Rewards: 18.0\n",
      "Episode: 23, Rewards: 19.0\n",
      "Episode: 24, Rewards: 15.0\n",
      "Episode: 25, Rewards: 32.0\n",
      "Episode: 26, Rewards: 12.0\n",
      "Episode: 27, Rewards: 27.0\n",
      "Episode: 28, Rewards: 32.0\n",
      "Episode: 29, Rewards: 10.0\n",
      "Episode: 30, Rewards: 26.0\n",
      "Episode: 31, Rewards: 48.0\n",
      "Episode: 32, Rewards: 14.0\n",
      "Episode: 33, Rewards: 21.0\n",
      "Episode: 34, Rewards: 16.0\n",
      "Episode: 35, Rewards: 13.0\n",
      "Episode: 36, Rewards: 24.0\n",
      "Episode: 37, Rewards: 19.0\n",
      "Episode: 38, Rewards: 19.0\n",
      "Episode: 39, Rewards: 15.0\n",
      "Episode: 40, Rewards: 14.0\n",
      "Episode: 41, Rewards: 23.0\n",
      "Episode: 42, Rewards: 12.0\n",
      "Episode: 43, Rewards: 22.0\n",
      "Episode: 44, Rewards: 77.0\n",
      "Episode: 45, Rewards: 23.0\n",
      "Episode: 46, Rewards: 11.0\n",
      "Episode: 47, Rewards: 56.0\n",
      "Episode: 48, Rewards: 21.0\n",
      "Episode: 49, Rewards: 16.0\n",
      "Episode: 50, Rewards: 57.0\n",
      "Episode: 51, Rewards: 14.0\n",
      "Episode: 52, Rewards: 28.0\n",
      "Episode: 53, Rewards: 9.0\n",
      "Episode: 54, Rewards: 122.0\n",
      "Episode: 55, Rewards: 13.0\n",
      "Episode: 56, Rewards: 33.0\n",
      "Episode: 57, Rewards: 14.0\n",
      "Episode: 58, Rewards: 77.0\n",
      "Episode: 59, Rewards: 11.0\n",
      "Episode: 60, Rewards: 19.0\n",
      "Episode: 61, Rewards: 35.0\n",
      "Episode: 62, Rewards: 32.0\n",
      "Episode: 63, Rewards: 38.0\n",
      "Episode: 64, Rewards: 15.0\n",
      "Episode: 65, Rewards: 26.0\n",
      "Episode: 66, Rewards: 106.0\n",
      "Episode: 67, Rewards: 22.0\n",
      "Episode: 68, Rewards: 13.0\n",
      "Episode: 69, Rewards: 43.0\n",
      "Episode: 70, Rewards: 79.0\n",
      "Episode: 71, Rewards: 24.0\n",
      "Episode: 72, Rewards: 12.0\n",
      "Episode: 73, Rewards: 21.0\n",
      "Episode: 74, Rewards: 30.0\n",
      "Episode: 75, Rewards: 54.0\n",
      "Episode: 76, Rewards: 18.0\n",
      "Episode: 77, Rewards: 30.0\n",
      "Episode: 78, Rewards: 87.0\n",
      "Episode: 79, Rewards: 48.0\n",
      "Episode: 80, Rewards: 23.0\n",
      "Episode: 81, Rewards: 118.0\n",
      "Episode: 82, Rewards: 13.0\n",
      "Episode: 83, Rewards: 45.0\n",
      "Episode: 84, Rewards: 40.0\n",
      "Episode: 85, Rewards: 26.0\n",
      "Episode: 86, Rewards: 24.0\n",
      "Episode: 87, Rewards: 25.0\n",
      "Episode: 88, Rewards: 11.0\n",
      "Episode: 89, Rewards: 26.0\n",
      "Episode: 90, Rewards: 37.0\n",
      "Episode: 91, Rewards: 20.0\n",
      "Episode: 92, Rewards: 23.0\n",
      "Episode: 93, Rewards: 73.0\n",
      "Episode: 94, Rewards: 21.0\n",
      "Episode: 95, Rewards: 87.0\n",
      "Episode: 96, Rewards: 17.0\n",
      "Episode: 97, Rewards: 11.0\n",
      "Episode: 98, Rewards: 28.0\n",
      "Episode: 99, Rewards: 81.0\n",
      "Episode: 100, Rewards: 69.0\n",
      "Episode: 101, Rewards: 25.0\n",
      "Episode: 102, Rewards: 16.0\n",
      "Episode: 103, Rewards: 18.0\n",
      "Episode: 104, Rewards: 30.0\n",
      "Episode: 105, Rewards: 143.0\n",
      "Episode: 106, Rewards: 99.0\n",
      "Episode: 107, Rewards: 15.0\n",
      "Episode: 108, Rewards: 40.0\n",
      "Episode: 109, Rewards: 21.0\n",
      "Episode: 110, Rewards: 16.0\n",
      "Episode: 111, Rewards: 27.0\n",
      "Episode: 112, Rewards: 87.0\n",
      "Episode: 113, Rewards: 12.0\n",
      "Episode: 114, Rewards: 122.0\n",
      "Episode: 115, Rewards: 82.0\n",
      "Episode: 116, Rewards: 25.0\n",
      "Episode: 117, Rewards: 127.0\n",
      "Episode: 118, Rewards: 12.0\n",
      "Episode: 119, Rewards: 77.0\n",
      "Episode: 120, Rewards: 20.0\n",
      "Episode: 121, Rewards: 43.0\n",
      "Episode: 122, Rewards: 195.0\n",
      "Episode: 123, Rewards: 151.0\n",
      "Episode: 124, Rewards: 14.0\n",
      "Episode: 125, Rewards: 18.0\n",
      "Episode: 126, Rewards: 57.0\n",
      "Episode: 127, Rewards: 500.0\n",
      "Episode: 128, Rewards: 227.0\n",
      "Episode: 129, Rewards: 13.0\n",
      "Episode: 130, Rewards: 54.0\n",
      "Episode: 131, Rewards: 16.0\n",
      "Episode: 132, Rewards: 72.0\n",
      "Episode: 133, Rewards: 149.0\n",
      "Episode: 134, Rewards: 12.0\n",
      "Episode: 135, Rewards: 48.0\n",
      "Episode: 136, Rewards: 38.0\n",
      "Episode: 137, Rewards: 21.0\n",
      "Episode: 138, Rewards: 9.0\n",
      "Episode: 139, Rewards: 109.0\n",
      "Episode: 140, Rewards: 426.0\n",
      "Episode: 141, Rewards: 20.0\n",
      "Episode: 142, Rewards: 500.0\n",
      "Episode: 143, Rewards: 219.0\n",
      "Episode: 144, Rewards: 44.0\n",
      "Episode: 145, Rewards: 19.0\n",
      "Episode: 146, Rewards: 453.0\n",
      "Episode: 147, Rewards: 33.0\n",
      "Episode: 148, Rewards: 19.0\n",
      "Episode: 149, Rewards: 41.0\n",
      "Episode: 150, Rewards: 18.0\n",
      "Episode: 151, Rewards: 27.0\n",
      "Episode: 152, Rewards: 30.0\n",
      "Episode: 153, Rewards: 26.0\n",
      "Episode: 154, Rewards: 357.0\n",
      "Episode: 155, Rewards: 18.0\n",
      "Episode: 156, Rewards: 14.0\n",
      "Episode: 157, Rewards: 9.0\n",
      "Episode: 158, Rewards: 17.0\n",
      "Episode: 159, Rewards: 9.0\n",
      "Episode: 160, Rewards: 46.0\n",
      "Episode: 161, Rewards: 72.0\n",
      "Episode: 162, Rewards: 12.0\n",
      "Episode: 163, Rewards: 430.0\n",
      "Episode: 164, Rewards: 500.0\n",
      "Episode: 165, Rewards: 500.0\n",
      "Episode: 166, Rewards: 500.0\n",
      "Episode: 167, Rewards: 500.0\n",
      "Episode: 168, Rewards: 376.0\n",
      "Episode: 169, Rewards: 26.0\n",
      "Episode: 170, Rewards: 500.0\n",
      "Episode: 171, Rewards: 500.0\n",
      "Episode: 172, Rewards: 329.0\n",
      "Episode: 173, Rewards: 33.0\n",
      "Episode: 174, Rewards: 21.0\n",
      "Episode: 175, Rewards: 30.0\n",
      "Episode: 176, Rewards: 42.0\n",
      "Episode: 177, Rewards: 9.0\n",
      "Episode: 178, Rewards: 71.0\n",
      "Episode: 179, Rewards: 30.0\n",
      "Episode: 180, Rewards: 133.0\n",
      "Episode: 181, Rewards: 10.0\n",
      "Episode: 182, Rewards: 444.0\n",
      "Episode: 183, Rewards: 59.0\n",
      "Episode: 184, Rewards: 61.0\n",
      "Episode: 185, Rewards: 34.0\n",
      "Episode: 186, Rewards: 48.0\n",
      "Episode: 187, Rewards: 44.0\n",
      "Episode: 188, Rewards: 500.0\n",
      "Episode: 189, Rewards: 500.0\n",
      "Episode: 190, Rewards: 500.0\n",
      "Episode: 191, Rewards: 500.0\n",
      "Episode: 192, Rewards: 500.0\n",
      "Episode: 193, Rewards: 500.0\n",
      "Episode: 194, Rewards: 500.0\n",
      "Episode: 195, Rewards: 500.0\n",
      "Episode: 196, Rewards: 500.0\n",
      "Episode: 197, Rewards: 500.0\n",
      "Episode: 198, Rewards: 500.0\n",
      "Episode: 199, Rewards: 500.0\n",
      "Episode: 200, Rewards: 500.0\n",
      "Episode: 201, Rewards: 500.0\n",
      "Episode: 202, Rewards: 500.0\n",
      "Episode: 203, Rewards: 500.0\n",
      "Episode: 204, Rewards: 500.0\n",
      "Episode: 205, Rewards: 500.0\n",
      "Episode: 206, Rewards: 500.0\n",
      "Episode: 207, Rewards: 500.0\n",
      "Episode: 208, Rewards: 48.0\n",
      "Episode: 209, Rewards: 200.0\n",
      "Episode: 210, Rewards: 10.0\n",
      "Episode: 211, Rewards: 500.0\n",
      "Episode: 212, Rewards: 500.0\n",
      "Episode: 213, Rewards: 500.0\n",
      "Episode: 214, Rewards: 500.0\n",
      "Episode: 215, Rewards: 500.0\n",
      "Episode: 216, Rewards: 500.0\n",
      "Episode: 217, Rewards: 500.0\n",
      "Episode: 218, Rewards: 500.0\n",
      "Episode: 219, Rewards: 500.0\n",
      "Episode: 220, Rewards: 500.0\n",
      "Episode: 221, Rewards: 500.0\n",
      "Episode: 222, Rewards: 500.0\n",
      "Episode: 223, Rewards: 500.0\n",
      "Episode: 224, Rewards: 500.0\n",
      "Episode: 225, Rewards: 500.0\n",
      "Episode: 226, Rewards: 500.0\n",
      "Episode: 227, Rewards: 500.0\n",
      "Episode: 228, Rewards: 500.0\n",
      "Episode: 229, Rewards: 500.0\n",
      "Episode: 230, Rewards: 500.0\n",
      "Episode: 231, Rewards: 500.0\n",
      "Episode: 232, Rewards: 500.0\n",
      "Episode: 233, Rewards: 500.0\n",
      "Episode: 234, Rewards: 500.0\n",
      "Episode: 235, Rewards: 500.0\n",
      "Episode: 236, Rewards: 500.0\n",
      "Episode: 237, Rewards: 500.0\n",
      "Episode: 238, Rewards: 500.0\n",
      "Episode: 239, Rewards: 500.0\n",
      "Episode: 240, Rewards: 500.0\n",
      "Episode: 241, Rewards: 500.0\n",
      "Episode: 242, Rewards: 500.0\n",
      "Episode: 243, Rewards: 500.0\n",
      "Episode: 244, Rewards: 500.0\n",
      "Episode: 245, Rewards: 500.0\n",
      "Episode: 246, Rewards: 500.0\n",
      "Episode: 247, Rewards: 500.0\n",
      "Episode: 248, Rewards: 500.0\n",
      "Episode: 249, Rewards: 500.0\n",
      "Episode: 250, Rewards: 500.0\n",
      "Episode: 251, Rewards: 500.0\n",
      "Episode: 252, Rewards: 500.0\n",
      "Episode: 253, Rewards: 500.0\n",
      "Episode: 254, Rewards: 500.0\n",
      "Episode: 255, Rewards: 500.0\n",
      "Episode: 256, Rewards: 500.0\n",
      "Episode: 257, Rewards: 500.0\n",
      "Episode: 258, Rewards: 500.0\n",
      "Episode: 259, Rewards: 500.0\n",
      "Episode: 260, Rewards: 500.0\n",
      "Episode: 261, Rewards: 500.0\n",
      "Episode: 262, Rewards: 500.0\n",
      "Episode: 263, Rewards: 500.0\n",
      "Episode: 264, Rewards: 500.0\n",
      "Episode: 265, Rewards: 500.0\n",
      "Episode: 266, Rewards: 500.0\n",
      "Episode: 267, Rewards: 500.0\n",
      "Episode: 268, Rewards: 500.0\n",
      "Episode: 269, Rewards: 500.0\n",
      "Episode: 270, Rewards: 500.0\n",
      "Episode: 271, Rewards: 500.0\n",
      "Episode: 272, Rewards: 500.0\n",
      "Episode: 273, Rewards: 500.0\n",
      "Episode: 274, Rewards: 500.0\n",
      "Episode: 275, Rewards: 500.0\n",
      "Episode: 276, Rewards: 500.0\n",
      "Episode: 277, Rewards: 500.0\n",
      "Episode: 278, Rewards: 500.0\n",
      "Episode: 279, Rewards: 500.0\n",
      "Episode: 280, Rewards: 500.0\n",
      "Episode: 281, Rewards: 500.0\n",
      "Episode: 282, Rewards: 500.0\n",
      "Episode: 283, Rewards: 500.0\n",
      "Episode: 284, Rewards: 500.0\n",
      "Episode: 285, Rewards: 500.0\n",
      "Episode: 286, Rewards: 500.0\n",
      "Episode: 287, Rewards: 500.0\n",
      "Episode: 288, Rewards: 500.0\n",
      "Episode: 289, Rewards: 500.0\n",
      "Episode: 290, Rewards: 500.0\n",
      "Episode: 291, Rewards: 500.0\n",
      "Episode: 292, Rewards: 500.0\n",
      "Episode: 293, Rewards: 500.0\n",
      "Episode: 294, Rewards: 500.0\n",
      "Episode: 295, Rewards: 500.0\n",
      "Episode: 296, Rewards: 500.0\n",
      "Episode: 297, Rewards: 500.0\n",
      "Episode: 298, Rewards: 500.0\n",
      "Episode: 299, Rewards: 500.0\n",
      "Episode: 300, Rewards: 500.0\n",
      "Episode: 301, Rewards: 500.0\n",
      "Episode: 302, Rewards: 500.0\n",
      "Episode: 303, Rewards: 500.0\n",
      "Episode: 304, Rewards: 500.0\n",
      "Episode: 305, Rewards: 500.0\n",
      "Episode: 306, Rewards: 500.0\n",
      "Episode: 307, Rewards: 500.0\n",
      "Episode: 308, Rewards: 500.0\n",
      "Episode: 309, Rewards: 500.0\n",
      "Episode: 310, Rewards: 500.0\n",
      "Episode: 311, Rewards: 500.0\n",
      "Episode: 312, Rewards: 500.0\n",
      "Episode: 313, Rewards: 500.0\n",
      "Episode: 314, Rewards: 500.0\n",
      "Episode: 315, Rewards: 500.0\n",
      "Episode: 316, Rewards: 500.0\n",
      "Episode: 317, Rewards: 500.0\n",
      "Episode: 318, Rewards: 500.0\n",
      "Episode: 319, Rewards: 500.0\n",
      "Episode: 320, Rewards: 500.0\n",
      "Episode: 321, Rewards: 500.0\n",
      "Episode: 322, Rewards: 500.0\n",
      "Episode: 323, Rewards: 500.0\n",
      "Episode: 324, Rewards: 500.0\n",
      "Episode: 325, Rewards: 500.0\n",
      "Episode: 326, Rewards: 500.0\n",
      "Episode: 327, Rewards: 500.0\n",
      "Episode: 328, Rewards: 500.0\n",
      "Episode: 329, Rewards: 500.0\n",
      "Episode: 330, Rewards: 500.0\n",
      "Episode: 331, Rewards: 500.0\n",
      "Episode: 332, Rewards: 500.0\n",
      "Episode: 333, Rewards: 500.0\n",
      "Episode: 334, Rewards: 500.0\n",
      "Episode: 335, Rewards: 500.0\n",
      "Episode: 336, Rewards: 500.0\n",
      "Episode: 337, Rewards: 500.0\n",
      "Episode: 338, Rewards: 500.0\n",
      "Episode: 339, Rewards: 500.0\n",
      "Episode: 340, Rewards: 500.0\n",
      "Episode: 341, Rewards: 500.0\n",
      "Episode: 342, Rewards: 500.0\n",
      "Episode: 343, Rewards: 500.0\n",
      "Episode: 344, Rewards: 500.0\n",
      "Episode: 345, Rewards: 500.0\n",
      "Episode: 346, Rewards: 500.0\n",
      "Episode: 347, Rewards: 500.0\n",
      "Episode: 348, Rewards: 500.0\n",
      "Episode: 349, Rewards: 500.0\n"
     ]
    }
   ],
   "source": [
    "episode_rewards = np.zeros(EPISODES)\n",
    "average_reward = []\n",
    "solved_episode = None\n",
    "\n",
    "start = time.time()\n",
    "for episode in range(EPISODES):\n",
    "    observation, _ = env.reset(seed=SEED)\n",
    "    state = discretize_state(observation)\n",
    "\n",
    "    decay_epsilon(episode)\n",
    "    decay_learning_rate(episode)\n",
    "\n",
    "    cumulative_reward = 0.0\n",
    "    done = False\n",
    "    while not done:\n",
    "        action = select_action(state)\n",
    "        next_obs, reward, terminated, truncated, _ = env.step(action)\n",
    "        next_state = discretize_state(next_obs)\n",
    "        update_q_table(state, action, reward, next_state, terminated)\n",
    "        cumulative_reward += reward\n",
    "        state = next_state\n",
    "        if terminated or truncated:\n",
    "            break\n",
    "\n",
    "    episode_rewards[episode] = cumulative_reward\n",
    "\n",
    "    if episode >= 100:\n",
    "        avg_reward = sum(episode_rewards[episode-100:episode]) / 100\n",
    "        average_reward.append(avg_reward)\n",
    "        if avg_reward >= 475 and solved_episode is None:\n",
    "            solved_episode = episode\n",
    "    else:\n",
    "        average_reward.append(sum(episode_rewards[:episode]) / 100)\n",
    "\n",
    "    print(f\"Episode: {episode}, Rewards: {cumulative_reward}\")\n",
    "end = time.time()\n",
    "training_time = end - start"
   ]
  },
  {
   "cell_type": "markdown",
   "metadata": {},
   "source": [
    "### Print Metrics"
   ]
  },
  {
   "cell_type": "code",
   "execution_count": 26,
   "metadata": {},
   "outputs": [
    {
     "name": "stdout",
     "output_type": "stream",
     "text": [
      "Average Reward (last 100): 500.0\n",
      "Solved at episode: 286\n",
      "Training Time (seconds): 4.254951238632202\n"
     ]
    }
   ],
   "source": [
    "print(f\"Average Reward (last 100): {np.mean(episode_rewards[-100:])}\")\n",
    "print(f\"Solved at episode: {solved_episode}\")\n",
    "print(f\"Training Time (seconds): {training_time}\")"
   ]
  },
  {
   "cell_type": "code",
   "execution_count": 27,
   "metadata": {
    "colab": {
     "base_uri": "https://localhost:8080/",
     "height": 489
    },
    "executionInfo": {
     "elapsed": 1023,
     "status": "ok",
     "timestamp": 1715598514739,
     "user": {
      "displayName": "Ahmed",
      "userId": "08710069743183411902"
     },
     "user_tz": -120
    },
    "id": "Sd9_fK0Dr9-m",
    "outputId": "1679ebae-90dc-4b37-ab44-99b9d4852916"
   },
   "outputs": [
    {
     "data": {
      "text/plain": [
       "Text(0, 0.5, 'Reward')"
      ]
     },
     "execution_count": 27,
     "metadata": {},
     "output_type": "execute_result"
    },
    {
     "data": {
      "image/png": "[encoded data removed]",
      "text/plain": [
       "<Figure size 640x480 with 1 Axes>"
      ]
     },
     "metadata": {},
     "output_type": "display_data"
    }
   ],
   "source": [
    "plt.figure()\n",
    "plt.plot(range(EPISODES), episode_rewards, label = \"Reward\")\n",
    "plt.plot(range(EPISODES), average_reward, label = \"Average Reward\")\n",
    "plt.axhline(y=475, color='r', linestyle='--', label='475 Steps')\n",
    "plt.legend(loc='upper left')\n",
    "plt.title(f\"Q-learning Training Result\")\n",
    "plt.xlabel('Episode')\n",
    "plt.ylabel('Reward')"
   ]
  },
  {
   "cell_type": "markdown",
   "metadata": {},
   "source": [
    "# Statitistical Analysis"
   ]
  },
  {
   "cell_type": "code",
   "execution_count": 28,
   "metadata": {
    "colab": {
     "base_uri": "https://localhost:8080/"
    },
    "executionInfo": {
     "elapsed": 293,
     "status": "ok",
     "timestamp": 1715551937583,
     "user": {
      "displayName": "Ahmed",
      "userId": "08710069743183411902"
     },
     "user_tz": -120
    },
    "id": "oRABxuuM3Rhl",
    "outputId": "2018f9c3-23f9-4423-e43f-87fbb419ffe7"
   },
   "outputs": [
    {
     "name": "stdout",
     "output_type": "stream",
     "text": [
      "Mean Reward: 266.57714285714286\n",
      "Median Reward: 223.0\n",
      "Standard Deviation of Rewards: 230.40129846572884\n"
     ]
    }
   ],
   "source": [
    "print(f\"Mean Reward: {np.mean(episode_rewards)}\")\n",
    "print(f\"Median Reward: {np.median(episode_rewards)}\")\n",
    "print(f\"Standard Deviation of Rewards: {np.std(episode_rewards)}\")"
   ]
  },
  {
   "cell_type": "code",
   "execution_count": 29,
   "metadata": {
    "colab": {
     "base_uri": "https://localhost:8080/"
    },
    "executionInfo": {
     "elapsed": 260,
     "status": "ok",
     "timestamp": 1715552022488,
     "user": {
      "displayName": "Ahmed",
      "userId": "08710069743183411902"
     },
     "user_tz": -120
    },
    "id": "dJthAst03cT2",
    "outputId": "cd508ffa-8440-4edb-f5d9-58e10c22b6d8"
   },
   "outputs": [
    {
     "name": "stdout",
     "output_type": "stream",
     "text": [
      "T-Test statistics: 5.398249394948158, P-value: 1.2459266611160817e-07\n"
     ]
    }
   ],
   "source": [
    "# Performing a t-test against an expected mean reward 200\n",
    "t_stat, p_value = stats.ttest_1samp(episode_rewards, 200)\n",
    "print(f\"T-Test statistics: {t_stat}, P-value: {p_value}\")"
   ]
  },
  {
   "cell_type": "code",
   "execution_count": 30,
   "metadata": {
    "colab": {
     "base_uri": "https://localhost:8080/"
    },
    "executionInfo": {
     "elapsed": 313,
     "status": "ok",
     "timestamp": 1715552060994,
     "user": {
      "displayName": "Ahmed",
      "userId": "08710069743183411902"
     },
     "user_tz": -120
    },
    "id": "Dq3VydM-3vhz",
    "outputId": "9bef68e0-7675-4b21-c729-237241268cc6"
   },
   "outputs": [
    {
     "name": "stdout",
     "output_type": "stream",
     "text": [
      "95% Confidence Interval for Mean Reward: (242.32059470380332, 290.8336910104824)\n"
     ]
    }
   ],
   "source": [
    "# Calculating the 95% confidence interval\n",
    "conf_interval = stats.t.interval(0.95, len(episode_rewards)-1, loc=np.mean(episode_rewards), scale=stats.sem(episode_rewards))\n",
    "print(f\"95% Confidence Interval for Mean Reward: {conf_interval}\")"
   ]
  }
 ],
 "metadata": {
  "colab": {
   "provenance": []
  },
  "kernelspec": {
   "display_name": "Python 3 (ipykernel)",
   "language": "python",
   "name": "python3"
  },
  "language_info": {
   "codemirror_mode": {
    "name": "ipython",
    "version": 3
   },
   "file_extension": ".py",
   "mimetype": "text/x-python",
   "name": "python",
   "nbconvert_exporter": "python",
   "pygments_lexer": "ipython3",
   "version": "3.9.18"
  }
 },
 "nbformat": 4,
 "nbformat_minor": 4
}
